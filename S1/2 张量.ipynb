{
 "cells": [
  {
   "cell_type": "markdown",
   "id": "9eda2876",
   "metadata": {},
   "source": [
    "# 张量基础操作"
   ]
  },
  {
   "cell_type": "code",
   "execution_count": 6,
   "id": "bf729ec9",
   "metadata": {},
   "outputs": [],
   "source": [
    "import torch "
   ]
  },
  {
   "cell_type": "markdown",
   "id": "98a89cbf",
   "metadata": {},
   "source": [
    "## 1. 1维张量"
   ]
  },
  {
   "cell_type": "code",
   "execution_count": 7,
   "id": "59bc78f6",
   "metadata": {},
   "outputs": [
    {
     "data": {
      "text/plain": [
       "tensor([1., 4., 2., 1., 3., 5.])"
      ]
     },
     "execution_count": 7,
     "metadata": {},
     "output_type": "execute_result"
    }
   ],
   "source": [
    "points = torch.tensor([1.0, 4.0, 2.0, 1.0, 3.0, 5.0]) # 1D tensor with 6\n",
    "points"
   ]
  },
  {
   "cell_type": "markdown",
   "id": "f680f95a",
   "metadata": {},
   "source": [
    "### 索引和切片"
   ]
  },
  {
   "cell_type": "code",
   "execution_count": 8,
   "id": "26b3226a",
   "metadata": {},
   "outputs": [
    {
     "data": {
      "text/plain": [
       "tensor(1.)"
      ]
     },
     "execution_count": 8,
     "metadata": {},
     "output_type": "execute_result"
    }
   ],
   "source": [
    "points[0] # first element"
   ]
  },
  {
   "cell_type": "code",
   "execution_count": 9,
   "id": "bb5d809e",
   "metadata": {},
   "outputs": [
    {
     "data": {
      "text/plain": [
       "tensor([4., 2., 1.])"
      ]
     },
     "execution_count": 9,
     "metadata": {},
     "output_type": "execute_result"
    }
   ],
   "source": [
    "points[1:4] # second to fourth elements"
   ]
  },
  {
   "cell_type": "code",
   "execution_count": 10,
   "id": "a4dcee38",
   "metadata": {},
   "outputs": [
    {
     "data": {
      "text/plain": [
       "tensor([4., 2., 1., 3., 5.])"
      ]
     },
     "execution_count": 10,
     "metadata": {},
     "output_type": "execute_result"
    }
   ],
   "source": [
    "points[1:] # all but the first element"
   ]
  },
  {
   "cell_type": "code",
   "execution_count": 11,
   "id": "6e1950e5",
   "metadata": {},
   "outputs": [
    {
     "data": {
      "text/plain": [
       "tensor([1., 4., 2., 1.])"
      ]
     },
     "execution_count": 11,
     "metadata": {},
     "output_type": "execute_result"
    }
   ],
   "source": [
    "points[:4] # first four elements"
   ]
  },
  {
   "cell_type": "code",
   "execution_count": 12,
   "id": "afa66b81",
   "metadata": {},
   "outputs": [
    {
     "data": {
      "text/plain": [
       "tensor([1., 2., 3.])"
      ]
     },
     "execution_count": 12,
     "metadata": {},
     "output_type": "execute_result"
    }
   ],
   "source": [
    "points[::2] # every second element"
   ]
  },
  {
   "cell_type": "markdown",
   "id": "85973f39",
   "metadata": {},
   "source": [
    "### 基本运算"
   ]
  },
  {
   "cell_type": "code",
   "execution_count": 14,
   "id": "50b990d6",
   "metadata": {},
   "outputs": [
    {
     "data": {
      "text/plain": [
       "tensor([1., 2., 3.])"
      ]
     },
     "execution_count": 14,
     "metadata": {},
     "output_type": "execute_result"
    }
   ],
   "source": [
    "x = torch.tensor([1., 2., 3.])  # 1D tensor with 3 elements\n",
    "x"
   ]
  },
  {
   "cell_type": "code",
   "execution_count": 15,
   "id": "80951711",
   "metadata": {},
   "outputs": [
    {
     "data": {
      "text/plain": [
       "tensor([4., 5., 6.])"
      ]
     },
     "execution_count": 15,
     "metadata": {},
     "output_type": "execute_result"
    }
   ],
   "source": [
    "y = torch.tensor([4., 5., 6.]) # another 1D tensor with 3 elements\n",
    "y"
   ]
  },
  {
   "cell_type": "code",
   "execution_count": 16,
   "id": "1e3a5f4e",
   "metadata": {},
   "outputs": [
    {
     "data": {
      "text/plain": [
       "tensor([5., 7., 9.])"
      ]
     },
     "execution_count": 16,
     "metadata": {},
     "output_type": "execute_result"
    }
   ],
   "source": [
    "x + y     # 加法 → tensor([5., 7., 9.])"
   ]
  },
  {
   "cell_type": "code",
   "execution_count": 17,
   "id": "0f0328f7",
   "metadata": {},
   "outputs": [
    {
     "data": {
      "text/plain": [
       "tensor([-3., -3., -3.])"
      ]
     },
     "execution_count": 17,
     "metadata": {},
     "output_type": "execute_result"
    }
   ],
   "source": [
    "x - y     # 减法 → tensor([-3., -3., -3.])"
   ]
  },
  {
   "cell_type": "code",
   "execution_count": 18,
   "id": "ca227a46",
   "metadata": {},
   "outputs": [
    {
     "data": {
      "text/plain": [
       "tensor([ 4., 10., 18.])"
      ]
     },
     "execution_count": 18,
     "metadata": {},
     "output_type": "execute_result"
    }
   ],
   "source": [
    "x * y     # 逐元素乘法 → tensor([ 4., 10., 18.])"
   ]
  },
  {
   "cell_type": "code",
   "execution_count": 19,
   "id": "dc3cad7c",
   "metadata": {},
   "outputs": [
    {
     "data": {
      "text/plain": [
       "tensor([0.2500, 0.4000, 0.5000])"
      ]
     },
     "execution_count": 19,
     "metadata": {},
     "output_type": "execute_result"
    }
   ],
   "source": [
    "x / y     # 逐元素除法 → tensor([0.25, 0.40, 0.50])"
   ]
  },
  {
   "cell_type": "code",
   "execution_count": 21,
   "id": "d3837b5d",
   "metadata": {},
   "outputs": [
    {
     "data": {
      "text/plain": [
       "tensor(32.)"
      ]
     },
     "execution_count": 21,
     "metadata": {},
     "output_type": "execute_result"
    }
   ],
   "source": [
    "x @ y     # 点积 (1D向量) → 32.0  (1*4 + 2*5 + 3*6)"
   ]
  },
  {
   "cell_type": "markdown",
   "id": "08122941",
   "metadata": {},
   "source": [
    "### 基础信息查看"
   ]
  },
  {
   "cell_type": "code",
   "execution_count": 58,
   "id": "28c19373",
   "metadata": {},
   "outputs": [
    {
     "data": {
      "text/plain": [
       "6"
      ]
     },
     "execution_count": 58,
     "metadata": {},
     "output_type": "execute_result"
    }
   ],
   "source": [
    "points.numel() # number of elements"
   ]
  },
  {
   "cell_type": "code",
   "execution_count": 27,
   "id": "8f8a0f42",
   "metadata": {},
   "outputs": [
    {
     "data": {
      "text/plain": [
       "torch.Size([6])"
      ]
     },
     "execution_count": 27,
     "metadata": {},
     "output_type": "execute_result"
    }
   ],
   "source": [
    "points.shape # 6个点"
   ]
  },
  {
   "cell_type": "code",
   "execution_count": 28,
   "id": "a9bf62be",
   "metadata": {},
   "outputs": [
    {
     "data": {
      "text/plain": [
       "'torch.FloatTensor'"
      ]
     },
     "execution_count": 28,
     "metadata": {},
     "output_type": "execute_result"
    }
   ],
   "source": [
    "points.type() # dtype"
   ]
  },
  {
   "cell_type": "code",
   "execution_count": 47,
   "id": "fbc6dfea",
   "metadata": {},
   "outputs": [
    {
     "data": {
      "text/plain": [
       "torch.float32"
      ]
     },
     "execution_count": 47,
     "metadata": {},
     "output_type": "execute_result"
    }
   ],
   "source": [
    "points.dtype # float32"
   ]
  },
  {
   "cell_type": "code",
   "execution_count": 29,
   "id": "7851cd0f",
   "metadata": {},
   "outputs": [
    {
     "data": {
      "text/plain": [
       "tensor([[1., 4.],\n",
       "        [2., 1.],\n",
       "        [3., 5.]])"
      ]
     },
     "execution_count": 29,
     "metadata": {},
     "output_type": "execute_result"
    }
   ],
   "source": [
    "points.view(3,2) # reshape to 3 rows and 2 columns"
   ]
  },
  {
   "cell_type": "code",
   "execution_count": 36,
   "id": "ecba9d9a",
   "metadata": {},
   "outputs": [
    {
     "data": {
      "text/plain": [
       "device(type='cpu')"
      ]
     },
     "execution_count": 36,
     "metadata": {},
     "output_type": "execute_result"
    }
   ],
   "source": [
    "points.device # device info"
   ]
  },
  {
   "cell_type": "markdown",
   "id": "92519860",
   "metadata": {},
   "source": [
    "### 常用函数"
   ]
  },
  {
   "cell_type": "code",
   "execution_count": 49,
   "id": "c4a746fb",
   "metadata": {},
   "outputs": [
    {
     "data": {
      "text/plain": [
       "tensor(16.)"
      ]
     },
     "execution_count": 49,
     "metadata": {},
     "output_type": "execute_result"
    }
   ],
   "source": [
    "torch.sum(points) # sum of all elements"
   ]
  },
  {
   "cell_type": "code",
   "execution_count": 50,
   "id": "b61f6795",
   "metadata": {},
   "outputs": [
    {
     "data": {
      "text/plain": [
       "tensor(1.)"
      ]
     },
     "execution_count": 50,
     "metadata": {},
     "output_type": "execute_result"
    }
   ],
   "source": [
    "torch.min(points) # min of all elements"
   ]
  },
  {
   "cell_type": "code",
   "execution_count": 51,
   "id": "e702cec4",
   "metadata": {},
   "outputs": [
    {
     "data": {
      "text/plain": [
       "tensor(5.)"
      ]
     },
     "execution_count": 51,
     "metadata": {},
     "output_type": "execute_result"
    }
   ],
   "source": [
    "torch.max(points) # max of all elements"
   ]
  },
  {
   "cell_type": "code",
   "execution_count": 52,
   "id": "7f22f586",
   "metadata": {},
   "outputs": [
    {
     "data": {
      "text/plain": [
       "tensor(2.6667)"
      ]
     },
     "execution_count": 52,
     "metadata": {},
     "output_type": "execute_result"
    }
   ],
   "source": [
    "torch.mean(points) # mean of all elements"
   ]
  },
  {
   "cell_type": "markdown",
   "id": "783600dd",
   "metadata": {},
   "source": [
    "### 排序"
   ]
  },
  {
   "cell_type": "code",
   "execution_count": 53,
   "id": "b183de71",
   "metadata": {},
   "outputs": [
    {
     "data": {
      "text/plain": [
       "torch.return_types.sort(\n",
       "values=tensor([1., 1., 2., 3., 4., 5.]),\n",
       "indices=tensor([0, 3, 2, 4, 1, 5]))"
      ]
     },
     "execution_count": 53,
     "metadata": {},
     "output_type": "execute_result"
    }
   ],
   "source": [
    "torch.sort(points) # sort elements in ascending order"
   ]
  },
  {
   "cell_type": "code",
   "execution_count": 54,
   "id": "55aaf0bd",
   "metadata": {},
   "outputs": [
    {
     "data": {
      "text/plain": [
       "tensor(5)"
      ]
     },
     "execution_count": 54,
     "metadata": {},
     "output_type": "execute_result"
    }
   ],
   "source": [
    "torch.argmax(points) # index of max element"
   ]
  },
  {
   "cell_type": "code",
   "execution_count": 56,
   "id": "5ddf2c0d",
   "metadata": {},
   "outputs": [
    {
     "data": {
      "text/plain": [
       "tensor(0)"
      ]
     },
     "execution_count": 56,
     "metadata": {},
     "output_type": "execute_result"
    }
   ],
   "source": [
    "torch.argmin(points) # index of min element"
   ]
  },
  {
   "cell_type": "code",
   "execution_count": 57,
   "id": "19ebcaf4",
   "metadata": {},
   "outputs": [
    {
     "data": {
      "text/plain": [
       "tensor([0, 3, 2, 4, 1, 5])"
      ]
     },
     "execution_count": 57,
     "metadata": {},
     "output_type": "execute_result"
    }
   ],
   "source": [
    "torch.argsort(points) # indices that would sort the tensor"
   ]
  },
  {
   "cell_type": "markdown",
   "id": "1b255f2c",
   "metadata": {},
   "source": [
    "### 张量创建\n",
    "\n",
    "使用特定函数创建张量：\n",
    "- 全为 0 的张量：torch.zeros(size)\n",
    "- 全为 1 的张量：torch.ones(size)\n",
    "- 随机值张量：torch.randn(size)"
   ]
  },
  {
   "cell_type": "code",
   "execution_count": 34,
   "id": "fb8f12df",
   "metadata": {},
   "outputs": [
    {
     "data": {
      "text/plain": [
       "tensor([0, 1, 2, 3, 4])"
      ]
     },
     "execution_count": 34,
     "metadata": {},
     "output_type": "execute_result"
    }
   ],
   "source": [
    "torch.arange(5) # 1D tensor with values from 0 to 4"
   ]
  },
  {
   "cell_type": "code",
   "execution_count": 35,
   "id": "30d30242",
   "metadata": {},
   "outputs": [
    {
     "data": {
      "text/plain": [
       "tensor([0.0000, 0.2500, 0.5000, 0.7500, 1.0000])"
      ]
     },
     "execution_count": 35,
     "metadata": {},
     "output_type": "execute_result"
    }
   ],
   "source": [
    "torch.linspace(0,1,5) # 1D tensor with 5 values from 0 to 1"
   ]
  },
  {
   "cell_type": "code",
   "execution_count": 7,
   "id": "becc234c",
   "metadata": {},
   "outputs": [
    {
     "data": {
      "text/plain": [
       "tensor([[1., 1., 1.],\n",
       "        [1., 1., 1.]])"
      ]
     },
     "execution_count": 7,
     "metadata": {},
     "output_type": "execute_result"
    }
   ],
   "source": [
    "torch.ones(2,3) # 2 rows and 3 columns, all elements are 1"
   ]
  },
  {
   "cell_type": "code",
   "execution_count": 9,
   "id": "8fedd91a",
   "metadata": {},
   "outputs": [
    {
     "data": {
      "text/plain": [
       "tensor([[0., 0., 0.],\n",
       "        [0., 0., 0.]])"
      ]
     },
     "execution_count": 9,
     "metadata": {},
     "output_type": "execute_result"
    }
   ],
   "source": [
    "torch.zeros(2,3) # 2 rows and 3 columns, all elements are 0"
   ]
  },
  {
   "cell_type": "code",
   "execution_count": 10,
   "id": "cb685c4e",
   "metadata": {},
   "outputs": [
    {
     "data": {
      "text/plain": [
       "tensor([[ 0.0361,  0.4816, -0.4785],\n",
       "        [-1.0181,  1.1600,  1.6929]])"
      ]
     },
     "execution_count": 10,
     "metadata": {},
     "output_type": "execute_result"
    }
   ],
   "source": [
    "torch.randn(2,3) # 2 rows and 3 columns, random numbers from standard normal distribution"
   ]
  },
  {
   "cell_type": "code",
   "execution_count": 33,
   "id": "1591aa97",
   "metadata": {},
   "outputs": [
    {
     "data": {
      "text/plain": [
       "tensor([1., 1., 1., 1., 1., 1.])"
      ]
     },
     "execution_count": 33,
     "metadata": {},
     "output_type": "execute_result"
    }
   ],
   "source": [
    "torch.ones_like(points) # same shape as points, all elements are 1"
   ]
  },
  {
   "cell_type": "markdown",
   "id": "6acef945",
   "metadata": {},
   "source": [
    "### 其他操作"
   ]
  },
  {
   "cell_type": "code",
   "execution_count": 72,
   "id": "261f6037",
   "metadata": {},
   "outputs": [
    {
     "data": {
      "text/plain": [
       "tensor([0, 1, 2, 3, 4, 5])"
      ]
     },
     "execution_count": 72,
     "metadata": {},
     "output_type": "execute_result"
    }
   ],
   "source": [
    "a = torch.arange(6) # 1D tensor with values from 0 to 5\n",
    "a"
   ]
  },
  {
   "cell_type": "code",
   "execution_count": 73,
   "id": "78c8f298",
   "metadata": {},
   "outputs": [
    {
     "data": {
      "text/plain": [
       "tensor([[0, 1, 2],\n",
       "        [3, 4, 5]])"
      ]
     },
     "execution_count": 73,
     "metadata": {},
     "output_type": "execute_result"
    }
   ],
   "source": [
    "b = a.view(2,3) # reshape to 2 rows and 3 columns\n",
    "b"
   ]
  },
  {
   "cell_type": "code",
   "execution_count": 75,
   "id": "fadc132c",
   "metadata": {},
   "outputs": [
    {
     "data": {
      "text/plain": [
       "(tensor(0), tensor(1), tensor(2), tensor(3), tensor(4), tensor(5))"
      ]
     },
     "execution_count": 75,
     "metadata": {},
     "output_type": "execute_result"
    }
   ],
   "source": [
    "c =a.unbind() # split into individual elements\n",
    "c"
   ]
  },
  {
   "cell_type": "code",
   "execution_count": 76,
   "id": "9378c3ed",
   "metadata": {},
   "outputs": [
    {
     "data": {
      "text/plain": [
       "3"
      ]
     },
     "execution_count": 76,
     "metadata": {},
     "output_type": "execute_result"
    }
   ],
   "source": [
    "c.index(3) # get the 4th element"
   ]
  },
  {
   "cell_type": "code",
   "execution_count": 78,
   "id": "52406e0d",
   "metadata": {},
   "outputs": [
    {
     "data": {
      "text/plain": [
       "tensor([[0, 3],\n",
       "        [1, 4],\n",
       "        [2, 5]])"
      ]
     },
     "execution_count": 78,
     "metadata": {},
     "output_type": "execute_result"
    }
   ],
   "source": [
    "d = b.t() # transpose b\n",
    "d"
   ]
  },
  {
   "cell_type": "code",
   "execution_count": 80,
   "id": "309f07b1",
   "metadata": {},
   "outputs": [
    {
     "data": {
      "text/plain": [
       "tensor([[ 5, 14],\n",
       "        [14, 50]])"
      ]
     },
     "execution_count": 80,
     "metadata": {},
     "output_type": "execute_result"
    }
   ],
   "source": [
    "e = b.matmul(d) # matrix multiplication of b and d\n",
    "e"
   ]
  },
  {
   "cell_type": "code",
   "execution_count": 81,
   "id": "875db3da",
   "metadata": {},
   "outputs": [
    {
     "data": {
      "text/plain": [
       "tensor([[1, 2, 3],\n",
       "        [4, 5, 6]])"
      ]
     },
     "execution_count": 81,
     "metadata": {},
     "output_type": "execute_result"
    }
   ],
   "source": [
    "f = b + 1 # add 1 to each element of b\n",
    "f"
   ]
  },
  {
   "cell_type": "code",
   "execution_count": 83,
   "id": "4eb4fa2a",
   "metadata": {},
   "outputs": [
    {
     "data": {
      "text/plain": [
       "tensor([[ 0,  2,  4],\n",
       "        [ 6,  8, 10]])"
      ]
     },
     "execution_count": 83,
     "metadata": {},
     "output_type": "execute_result"
    }
   ],
   "source": [
    "g = b * 2 # multiply each element of b by 2\n",
    "g"
   ]
  },
  {
   "cell_type": "code",
   "execution_count": 85,
   "id": "25506008",
   "metadata": {},
   "outputs": [
    {
     "data": {
      "text/plain": [
       "tensor([[ 0,  1,  4],\n",
       "        [ 9, 16, 25]])"
      ]
     },
     "execution_count": 85,
     "metadata": {},
     "output_type": "execute_result"
    }
   ],
   "source": [
    "h = b ** 2 # square each element of b\n",
    "h"
   ]
  },
  {
   "cell_type": "code",
   "execution_count": 87,
   "id": "a2471828",
   "metadata": {},
   "outputs": [
    {
     "data": {
      "text/plain": [
       "tensor([[  1.0000,   2.7183,   7.3891],\n",
       "        [ 20.0855,  54.5982, 148.4132]])"
      ]
     },
     "execution_count": 87,
     "metadata": {},
     "output_type": "execute_result"
    }
   ],
   "source": [
    "i = torch.exp(b) # exponential of each element of b\n",
    "i"
   ]
  },
  {
   "cell_type": "code",
   "execution_count": 88,
   "id": "69e2c9cf",
   "metadata": {},
   "outputs": [
    {
     "data": {
      "text/plain": [
       "tensor([[  -inf, 0.0000, 1.3863],\n",
       "        [2.1972, 2.7726, 3.2189]])"
      ]
     },
     "execution_count": 88,
     "metadata": {},
     "output_type": "execute_result"
    }
   ],
   "source": [
    "j = torch.log(h) # natural logarithm of each element of h\n",
    "j   "
   ]
  },
  {
   "cell_type": "code",
   "execution_count": 90,
   "id": "9c9eb084",
   "metadata": {},
   "outputs": [
    {
     "data": {
      "text/plain": [
       "tensor([[0., 1., 2.],\n",
       "        [3., 4., 5.]])"
      ]
     },
     "execution_count": 90,
     "metadata": {},
     "output_type": "execute_result"
    }
   ],
   "source": [
    "k = torch.sqrt(h) # square root of each element of h\n",
    "k"
   ]
  },
  {
   "cell_type": "code",
   "execution_count": 92,
   "id": "2e12c423",
   "metadata": {},
   "outputs": [
    {
     "data": {
      "text/plain": [
       "tensor([3, 5, 7])"
      ]
     },
     "execution_count": 92,
     "metadata": {},
     "output_type": "execute_result"
    }
   ],
   "source": [
    "l = torch.sum(b, dim=0) # sum of each column\n",
    "l"
   ]
  },
  {
   "cell_type": "code",
   "execution_count": 94,
   "id": "a0953413",
   "metadata": {},
   "outputs": [
    {
     "data": {
      "text/plain": [
       "tensor([ 3, 12])"
      ]
     },
     "execution_count": 94,
     "metadata": {},
     "output_type": "execute_result"
    }
   ],
   "source": [
    "m = torch.sum(b, dim=1) # sum of each row\n",
    "m"
   ]
  }
 ],
 "metadata": {
  "kernelspec": {
   "display_name": "3.10.13",
   "language": "python",
   "name": "python3"
  },
  "language_info": {
   "codemirror_mode": {
    "name": "ipython",
    "version": 3
   },
   "file_extension": ".py",
   "mimetype": "text/x-python",
   "name": "python",
   "nbconvert_exporter": "python",
   "pygments_lexer": "ipython3",
   "version": "3.10.13"
  }
 },
 "nbformat": 4,
 "nbformat_minor": 5
}
