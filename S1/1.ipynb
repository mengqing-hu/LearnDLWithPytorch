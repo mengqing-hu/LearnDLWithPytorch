{
 "cells": [
  {
   "cell_type": "markdown",
   "id": "0b3a1d57",
   "metadata": {},
   "source": [
    "# 几个 PyTorch 常用模块的例子"
   ]
  }
 ],
 "metadata": {
  "kernelspec": {
   "display_name": "3.10.13",
   "language": "python",
   "name": "python3"
  },
  "language_info": {
   "codemirror_mode": {
    "name": "ipython",
    "version": 3
   },
   "file_extension": ".py",
   "mimetype": "text/x-python",
   "name": "python",
   "nbconvert_exporter": "python",
   "pygments_lexer": "ipython3",
   "version": "3.10.13"
  }
 },
 "nbformat": 4,
 "nbformat_minor": 5
}
